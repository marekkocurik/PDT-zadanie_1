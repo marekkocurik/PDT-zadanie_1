{
 "cells": [
  {
   "cell_type": "markdown",
   "metadata": {},
   "source": [
    "# Zadanie 1\n",
    "\n",
    "poznamka: ziadna cast kodu nebola v tomto notebooku spustena. Tento dokument bol vytvoreny z viacerych notebookov, ktore su ulozene na mojom gite"
   ]
  },
  {
   "cell_type": "code",
   "execution_count": 1,
   "metadata": {},
   "outputs": [
    {
     "name": "stderr",
     "output_type": "stream",
     "text": [
      "[nltk_data] Downloading package vader_lexicon to\n",
      "[nltk_data]     C:\\Users\\Marek\\AppData\\Roaming\\nltk_data...\n",
      "[nltk_data]   Package vader_lexicon is already up-to-date!\n"
     ]
    }
   ],
   "source": [
    "%matplotlib inline\n",
    "from psycopg2.extras import RealDictCursor\n",
    "import psycopg2\n",
    "import nltk\n",
    "import pandas as pd\n",
    "import re\n",
    "nltk.download('vader_lexicon')\n",
    "from nltk.sentiment.vader import SentimentIntensityAnalyzer\n",
    "import numpy as np\n",
    "import matplotlib.pyplot as plt"
   ]
  },
  {
   "cell_type": "markdown",
   "metadata": {},
   "source": [
    "### Pouzite funkcie\n",
    "\n",
    "create_function() - vytvorenie pripojenia do databazy\n",
    "remove_emoji(tweet) - vymazanie emoji z tweetu\n",
    "remove_mentions_and_hashtags(tweet) - vymazanie mentions a hashtagov z tweetu\n",
    "clarify_tweet(tweet) - funkcia vycisti tweet volanim predoslych funkcii a vrati sentiment\n"
   ]
  },
  {
   "cell_type": "code",
   "execution_count": 2,
   "metadata": {},
   "outputs": [],
   "source": [
    "def create_connection():\n",
    "    return psycopg2.connect(\"dbname=twitter user=postgres password=postgres host=localhost port=5433\")\n",
    "\n",
    "def remove_emoji(tweet):\n",
    "    emoji = re.compile(\"[\"\n",
    "        u\"\\U0001F600-\\U0001F64F\"\n",
    "        u\"\\U0001F300-\\U0001F5FF\"\n",
    "        u\"\\U0001F680-\\U0001F6FF\"\n",
    "        u\"\\U0001F1E0-\\U0001F1FF\"\n",
    "        u\"\\U00002500-\\U00002BEF\"\n",
    "        u\"\\U00002702-\\U000027B0\"\n",
    "        u\"\\U00002702-\\U000027B0\"\n",
    "        u\"\\U000024C2-\\U0001F251\"\n",
    "        u\"\\U0001f926-\\U0001f937\"\n",
    "        u\"\\U00010000-\\U0010ffff\"\n",
    "        u\"\\u2640-\\u2642\" \n",
    "        u\"\\u2600-\\u2B55\"\n",
    "        u\"\\u200d\"\n",
    "        u\"\\u23cf\"\n",
    "        u\"\\u23e9\"\n",
    "        u\"\\u231a\"\n",
    "        u\"\\ufe0f\"\n",
    "        u\"\\u3030\"\n",
    "        \"]+\", re.UNICODE)\n",
    "    return re.sub(emoji, '', tweet)\n",
    "    \n",
    "def remove_mentions_and_hashtags(tweet):\n",
    "    clarified_tweet = re.sub(\"(@[A-Za-z0-9]+)|(#[A-Za-z0-9_]+)\", \" \", tweet)\n",
    "    return ' '.join(clarified_tweet.split())\n",
    "\n",
    "def clarify_tweet(tweet):\n",
    "    no_emoji = remove_emoji(tweet)\n",
    "    text = remove_mentions_and_hashtags(no_emoji)\n",
    "    return sid.polarity_scores(text)"
   ]
  },
  {
   "cell_type": "markdown",
   "metadata": {},
   "source": [
    "## Uloha 2"
   ]
  },
  {
   "cell_type": "markdown",
   "metadata": {},
   "source": [
    "Vytvorenie potrebnych stlpcov (neg, neu, pos, compound):"
   ]
  },
  {
   "cell_type": "code",
   "execution_count": null,
   "metadata": {},
   "outputs": [],
   "source": [
    "add_columns_query = \"\"\"\n",
    "ALTER TABLE tweets\n",
    "ADD COLUMN neg DECIMAL DEFAULT 0,\n",
    "ADD COLUMN neu DECIMAL DEFAULT 0,\n",
    "ADD COLUMN pos DECIMAL DEFAULT 0,\n",
    "ADD COLUMN compound DECIMAL DEFAULT 0\n",
    "\"\"\"\n",
    "\n",
    "try:\n",
    "    conn = create_connection();\n",
    "    cur = conn.cursor()\n",
    "    cur.execute(add_columns_query)\n",
    "    conn.commit()\n",
    "    conn.close()\n",
    "except:\n",
    "    conn.rollback()"
   ]
  },
  {
   "cell_type": "markdown",
   "metadata": {},
   "source": [
    "Select potrebnych udajov pre ulohu c. 2."
   ]
  },
  {
   "cell_type": "code",
   "execution_count": null,
   "metadata": {},
   "outputs": [],
   "source": [
    "select_query = \"\"\"\n",
    "SELECT DISTINCT t.id, t.content, t.neg, t.neu, t.pos, t.compound\n",
    "FROM tweets t\n",
    "JOIN tweet_hashtags th ON th.tweet_id = t.id\n",
    "JOIN hashtags h ON h.id = th.hashtag_id\n",
    "WHERE h.value ILIKE any (array[\n",
    "    '%DeepstateVirus%',\n",
    "    '%DeepStateFauci%',\n",
    "    '%DeepStateVaccine%',\n",
    "    '%QAnon%',\n",
    "    '%Agenda21%',\n",
    "    '%CCPVirus%',\n",
    "    '%ClimateChangeHoax%',\n",
    "    '%GlobalWarmingHoax%',\n",
    "    '%ChinaLiedPeopleDied%',\n",
    "    '%SorosVirus%',\n",
    "    '%5GCoronavirus%',\n",
    "    '%MAGA%',\n",
    "    '%WWG1WGA%',\n",
    "    '%Chemtrails%',\n",
    "    '%flatEarth%',\n",
    "    '%MoonLandingHoax%',\n",
    "    '%moonhoax%',\n",
    "    '%illuminati%',\n",
    "    '%pizzaGateIsReal%',\n",
    "    '%PedoGateIsReal%',\n",
    "    '%911truth%',\n",
    "    '%911insidejob%',\n",
    "    '%reptilians%'\n",
    "])\n",
    "\"\"\"\n",
    "\n",
    "conn = create_connection()\n",
    "df = pd.read_sql_query(select_query, con=conn)\n",
    "conn.close()"
   ]
  },
  {
   "cell_type": "markdown",
   "metadata": {},
   "source": [
    "Vycistenie tweetov od emoji, mentions, hashtagov a nasledne vypocet sentimentu:"
   ]
  },
  {
   "cell_type": "code",
   "execution_count": null,
   "metadata": {},
   "outputs": [],
   "source": [
    "try:\n",
    "    sid = SentimentIntensityAnalyzer()\n",
    "    df['vader'] = df['content'].apply(lambda x : clarify_tweet(x))\n",
    "    df['neg'] = df['vader'].apply(lambda x : x['neg'])\n",
    "    df['neu'] = df['vader'].apply(lambda x : x['neu'])\n",
    "    df['pos'] = df['vader'].apply(lambda x : x['pos'])\n",
    "    df['compound'] = df['vader'].apply(lambda x : x['compound'])\n",
    "    \n",
    "except e:\n",
    "    print(e)"
   ]
  },
  {
   "cell_type": "markdown",
   "metadata": {},
   "source": [
    "Update jednotlivych hodnot selectnutych tweetov v databaze:"
   ]
  },
  {
   "cell_type": "code",
   "execution_count": null,
   "metadata": {},
   "outputs": [],
   "source": [
    "try:\n",
    "    conn = create_connection()\n",
    "    cur = conn.cursor()\n",
    "\n",
    "    for index, row in df.iterrows():\n",
    "        update_query = \"\"\"\n",
    "        UPDATE tweets\n",
    "        SET neg = {},\n",
    "            neu = {},\n",
    "            pos = {},\n",
    "            compound = {}\n",
    "        WHERE '{}' = tweets.id;\n",
    "        \"\"\".format(row['neg'], row['neu'], row['pos'], row['compound'], row['id'])\n",
    "        cur.execute(update_query)\n",
    "\n",
    "    conn.commit()\n",
    "    conn.close()\n",
    "    \n",
    "except:\n",
    "    pass"
   ]
  },
  {
   "cell_type": "code",
   "execution_count": 3,
   "metadata": {},
   "outputs": [
    {
     "data": {
      "text/html": [
       "<div>\n",
       "<style scoped>\n",
       "    .dataframe tbody tr th:only-of-type {\n",
       "        vertical-align: middle;\n",
       "    }\n",
       "\n",
       "    .dataframe tbody tr th {\n",
       "        vertical-align: top;\n",
       "    }\n",
       "\n",
       "    .dataframe thead th {\n",
       "        text-align: right;\n",
       "    }\n",
       "</style>\n",
       "<table border=\"1\" class=\"dataframe\">\n",
       "  <thead>\n",
       "    <tr style=\"text-align: right;\">\n",
       "      <th></th>\n",
       "      <th>id</th>\n",
       "      <th>neg</th>\n",
       "      <th>neu</th>\n",
       "      <th>pos</th>\n",
       "      <th>compound</th>\n",
       "    </tr>\n",
       "  </thead>\n",
       "  <tbody>\n",
       "    <tr>\n",
       "      <th>0</th>\n",
       "      <td>1220798255098777601</td>\n",
       "      <td>0.0</td>\n",
       "      <td>0.0</td>\n",
       "      <td>0.0</td>\n",
       "      <td>0.0</td>\n",
       "    </tr>\n",
       "    <tr>\n",
       "      <th>1</th>\n",
       "      <td>1220790544009519104</td>\n",
       "      <td>0.0</td>\n",
       "      <td>0.0</td>\n",
       "      <td>0.0</td>\n",
       "      <td>0.0</td>\n",
       "    </tr>\n",
       "    <tr>\n",
       "      <th>2</th>\n",
       "      <td>1220798255992201217</td>\n",
       "      <td>0.0</td>\n",
       "      <td>0.0</td>\n",
       "      <td>0.0</td>\n",
       "      <td>0.0</td>\n",
       "    </tr>\n",
       "    <tr>\n",
       "      <th>3</th>\n",
       "      <td>1220798256608878598</td>\n",
       "      <td>0.0</td>\n",
       "      <td>0.0</td>\n",
       "      <td>0.0</td>\n",
       "      <td>0.0</td>\n",
       "    </tr>\n",
       "    <tr>\n",
       "      <th>4</th>\n",
       "      <td>1220798259431645185</td>\n",
       "      <td>0.0</td>\n",
       "      <td>0.0</td>\n",
       "      <td>0.0</td>\n",
       "      <td>0.0</td>\n",
       "    </tr>\n",
       "  </tbody>\n",
       "</table>\n",
       "</div>"
      ],
      "text/plain": [
       "                    id  neg  neu  pos  compound\n",
       "0  1220798255098777601  0.0  0.0  0.0       0.0\n",
       "1  1220790544009519104  0.0  0.0  0.0       0.0\n",
       "2  1220798255992201217  0.0  0.0  0.0       0.0\n",
       "3  1220798256608878598  0.0  0.0  0.0       0.0\n",
       "4  1220798259431645185  0.0  0.0  0.0       0.0"
      ]
     },
     "execution_count": 3,
     "metadata": {},
     "output_type": "execute_result"
    }
   ],
   "source": [
    "select_uloha2 = \"\"\"\n",
    "SELECT t.id, t.neg, t.neu, t.pos, t.compound\n",
    "FROM tweets t\n",
    "LIMIT 5;\n",
    "\"\"\"\n",
    "\n",
    "conn = create_connection()\n",
    "df = pd.read_sql_query(select_uloha2, con=conn)\n",
    "conn.close()\n",
    "df"
   ]
  },
  {
   "cell_type": "markdown",
   "metadata": {},
   "source": [
    "## Uloha 3"
   ]
  },
  {
   "cell_type": "markdown",
   "metadata": {},
   "source": [
    "Vytvorenie potrebnych tabuliek:"
   ]
  },
  {
   "cell_type": "code",
   "execution_count": null,
   "metadata": {},
   "outputs": [],
   "source": [
    "create_table_theories = \"\"\"\n",
    "CREATE TABLE theories (\n",
    "    id SERIAL PRIMARY KEY,\n",
    "    theory VARCHAR(50)\n",
    ");\n",
    "\"\"\"\n",
    "\n",
    "create_table_tweets_theories = \"\"\"\n",
    "CREATE TABLE tweets_theories (\n",
    "    id SERIAL PRIMARY KEY,\n",
    "    tweet_id VARCHAR(20) NOT NULL,\n",
    "    theory_id INTEGER NOT NULL,\n",
    "    FOREIGN KEY (tweet_id) REFERENCES tweets(id) ON UPDATE CASCADE ON DELETE RESTRICT,\n",
    "    FOREIGN KEY (theory_id) REFERENCES theories(id) ON UPDATE CASCADE ON DELETE RESTRICT\n",
    ");\n",
    "\"\"\"\n",
    "\n",
    "conn = create_connection();\n",
    "cur = conn.cursor()\n",
    "cur.execute(create_table_theories)\n",
    "cur.execute(create_table_tweets_theories)\n",
    "conn.commit()\n",
    "conn.close()"
   ]
  },
  {
   "cell_type": "markdown",
   "metadata": {},
   "source": [
    "Naplnenie tabulky 'theories':"
   ]
  },
  {
   "cell_type": "code",
   "execution_count": null,
   "metadata": {},
   "outputs": [],
   "source": [
    "fill_theories = \"\"\"\n",
    "INSERT INTO theories(theory)\n",
    "VALUES  ('Deep State'),\n",
    "        ('Qanon'),\n",
    "        ('New world order'),\n",
    "        ('The virus escaped from a Chinese lab'),\n",
    "        ('Global Warming is HOAX'),\n",
    "        ('COVID19 and microchipping'),\n",
    "        ('COVID19 is spreaded by 5G'),\n",
    "        ('Moon landing is fake'),\n",
    "        ('9/11 was inside job'),\n",
    "        ('Pizzagate conspiracy theory'),\n",
    "        ('Chemtrails'),\n",
    "        ('FlatEarth'),\n",
    "        ('Illuminati'),\n",
    "        ('Reptilian conspiracy theory');\n",
    "\"\"\"\n",
    "\n",
    "conn = create_connection()\n",
    "cur = conn.cursor()\n",
    "cur.execute(fill_theories)\n",
    "conn.commit()\n",
    "conn.close()"
   ]
  },
  {
   "cell_type": "markdown",
   "metadata": {},
   "source": [
    "Naplnenie tabulky 'tweets_theories', ktora sluzi na mapovanie jednotlivych tweetov na teorie:"
   ]
  },
  {
   "cell_type": "code",
   "execution_count": null,
   "metadata": {},
   "outputs": [],
   "source": [
    "fill_tweets_theories = \"\"\"\n",
    "INSERT INTO tweets_theories (tweet_id, theory_id)\n",
    "SELECT DISTINCT t.id, CASE\n",
    "    WHEN h.value ILIKE any (array['%deepstatevirus%', '%deepstatefauci%', '%deepstatevaccine%'])\n",
    "    THEN (SELECT id FROM theories WHERE theory ILIKE 'Deep State')\n",
    "    WHEN h.value ILIKE any (array['%QAnon%', '%MAGA%', '%WWG1WGA%'])\n",
    "    THEN (SELECT id FROM theories WHERE theory ILIKE 'Qanon')\n",
    "    WHEN h.value ILIKE '%Agenda21%'\n",
    "    THEN (SELECT id FROM theories WHERE theory ILIKE 'New world%')\n",
    "    WHEN h.value ILIKE any (array['%CCPVirus%', '%ChinaLiedPeopleDied%'])\n",
    "    THEN (SELECT id FROM theories WHERE theory ILIKE 'The virus escaped%')\n",
    "    WHEN h.value ILIKE any (array['%ClimateChangeHoax%', '%GlobalWarmingHoax%'])\n",
    "    THEN (SELECT id FROM theories WHERE theory ILIKE 'Global warming%')\n",
    "    WHEN h.value ILIKE '%SorosVirus%'\n",
    "    THEN (SELECT id FROM theories WHERE theory ILIKE 'COVID19 and %')\n",
    "    WHEN h.value ILIKE '%5GCoronavirus%'\n",
    "    THEN (SELECT id FROM theories WHERE theory ILIKE 'COVID19 is s%')\n",
    "    WHEN h.value ILIKE any (array['%MoonLandingHoax%', '%moonhoax%'])\n",
    "    THEN (SELECT id FROM theories WHERE theory ILIKE 'Moon landing%')\n",
    "    WHEN h.value ILIKE any (array['%911truth%', '%911insidejob%'])\n",
    "    THEN (SELECT id FROM theories WHERE theory ILIKE '9/11%')\n",
    "    WHEN h.value ILIKE any (array['%pizzaGateIsReal%', '%PedoGateIsReal%'])\n",
    "    THEN (SELECT id FROM theories WHERE theory ILIKE 'Pizzagate%')\n",
    "    WHEN h.value ILIKE '%Chemtrails%'\n",
    "    THEN (SELECT id FROM theories WHERE theory ILIKE 'Chemtrails')\n",
    "    WHEN h.value ILIKE '%FlatEarth%'\n",
    "    THEN (SELECT id FROM theories WHERE theory ILIKE 'FlatEarth')\n",
    "    WHEN h.value ILIKE '%illuminati%'\n",
    "    THEN (SELECT id FROM theories WHERE theory ILIKE 'illuminati')\n",
    "    WHEN h.value ILIKE '%reptilians%'\n",
    "    THEN (SELECT id FROM theories WHERE theory ILIKE 'reptilian%')\n",
    "END AS theories_id\n",
    "FROM tweets t\n",
    "JOIN tweet_hashtags as th ON t.id = th.tweet_id\n",
    "JOIN hashtags as h ON h.id = th.hashtag_id\n",
    "WHERE h.value ILIKE any (array[\n",
    "    '%DeepstateVirus%',\n",
    "    '%DeepStateFauci%',\n",
    "    '%DeepStateVaccine%',\n",
    "    '%QAnon%',\n",
    "    '%Agenda21%',\n",
    "    '%CCPVirus%',\n",
    "    '%ClimateChangeHoax%',\n",
    "    '%GlobalWarmingHoax%',\n",
    "    '%ChinaLiedPeopleDied%',\n",
    "    '%SorosVirus%',\n",
    "    '%5GCoronavirus%',\n",
    "    '%MAGA%',\n",
    "    '%WWG1WGA%',\n",
    "    '%Chemtrails%',\n",
    "    '%flatEarth%',\n",
    "    '%MoonLandingHoax%',\n",
    "    '%moonhoax%',\n",
    "    '%illuminati%',\n",
    "    '%pizzaGateIsReal%',\n",
    "    '%PedoGateIsReal%',\n",
    "    '%911truth%',\n",
    "    '%911insidejob%',\n",
    "    '%reptilians%'\n",
    "])\n",
    "\"\"\"\n",
    "\n",
    "conn = create_connection()\n",
    "cur = conn.cursor()\n",
    "cur.execute(fill_tweets_theories)\n",
    "conn.commit()\n",
    "conn.close()"
   ]
  },
  {
   "cell_type": "code",
   "execution_count": 6,
   "metadata": {},
   "outputs": [
    {
     "data": {
      "text/html": [
       "<div>\n",
       "<style scoped>\n",
       "    .dataframe tbody tr th:only-of-type {\n",
       "        vertical-align: middle;\n",
       "    }\n",
       "\n",
       "    .dataframe tbody tr th {\n",
       "        vertical-align: top;\n",
       "    }\n",
       "\n",
       "    .dataframe thead th {\n",
       "        text-align: right;\n",
       "    }\n",
       "</style>\n",
       "<table border=\"1\" class=\"dataframe\">\n",
       "  <thead>\n",
       "    <tr style=\"text-align: right;\">\n",
       "      <th></th>\n",
       "      <th>id</th>\n",
       "      <th>theory</th>\n",
       "    </tr>\n",
       "  </thead>\n",
       "  <tbody>\n",
       "    <tr>\n",
       "      <th>0</th>\n",
       "      <td>1034289685227614208</td>\n",
       "      <td>Qanon</td>\n",
       "    </tr>\n",
       "    <tr>\n",
       "      <th>1</th>\n",
       "      <td>1034289685227614208</td>\n",
       "      <td>Pizzagate conspiracy theory</td>\n",
       "    </tr>\n",
       "    <tr>\n",
       "      <th>2</th>\n",
       "      <td>1037494012033343488</td>\n",
       "      <td>Qanon</td>\n",
       "    </tr>\n",
       "    <tr>\n",
       "      <th>3</th>\n",
       "      <td>1038674252940148736</td>\n",
       "      <td>Qanon</td>\n",
       "    </tr>\n",
       "    <tr>\n",
       "      <th>4</th>\n",
       "      <td>1039279051456831489</td>\n",
       "      <td>Qanon</td>\n",
       "    </tr>\n",
       "  </tbody>\n",
       "</table>\n",
       "</div>"
      ],
      "text/plain": [
       "                    id                       theory\n",
       "0  1034289685227614208                        Qanon\n",
       "1  1034289685227614208  Pizzagate conspiracy theory\n",
       "2  1037494012033343488                        Qanon\n",
       "3  1038674252940148736                        Qanon\n",
       "4  1039279051456831489                        Qanon"
      ]
     },
     "execution_count": 6,
     "metadata": {},
     "output_type": "execute_result"
    }
   ],
   "source": [
    "select_uloha3 = \"\"\"\n",
    "SELECT t.id, th.theory\n",
    "FROM tweets t\n",
    "JOIN tweets_theories tt ON tt.tweet_id = t.id\n",
    "JOIN theories th ON th.id = tt.theory_id\n",
    "LIMIT 5;\n",
    "\"\"\"\n",
    "\n",
    "conn = create_connection()\n",
    "df = pd.read_sql_query(select_uloha3, con=conn)\n",
    "conn.close()\n",
    "df"
   ]
  },
  {
   "cell_type": "markdown",
   "metadata": {},
   "source": [
    "## Uloha 4"
   ]
  },
  {
   "cell_type": "markdown",
   "metadata": {},
   "source": [
    "Vytvorenie potrebnej tabulky:"
   ]
  },
  {
   "cell_type": "code",
   "execution_count": null,
   "metadata": {},
   "outputs": [],
   "source": [
    "create_table = \"\"\"\n",
    "CREATE TABLE sentiment_ratio_by_weeks (\n",
    "    id SERIAL PRIMARY KEY,\n",
    "    theory_id INTEGER NOT NULL,\n",
    "    tweet_count INTEGER DEFAULT 0,\n",
    "    tweet_extreme_count INTEGER DEFAULT 0,\n",
    "    tweet_neutral_count INTEGER DEFAULT 0,\n",
    "    ratio DECIMAL DEFAULT 0,\n",
    "    week INTEGER,\n",
    "    year INTEGER,\n",
    "    FOREIGN KEY (theory_id) REFERENCES theories(id) ON UPDATE CASCADE ON DELETE RESTRICT\n",
    ")\n",
    "\"\"\"\n",
    "\n",
    "conn = create_connection();\n",
    "cur = conn.cursor()\n",
    "cur.execute(create_table)\n",
    "conn.commit()\n",
    "conn.close()"
   ]
  },
  {
   "cell_type": "markdown",
   "metadata": {},
   "source": [
    "Naplnenie vytvorenej tabulky:"
   ]
  },
  {
   "cell_type": "code",
   "execution_count": null,
   "metadata": {},
   "outputs": [],
   "source": [
    "select = \"\"\"\n",
    "INSERT INTO sentiment_ratio_by_weeks (theory_id, year, week, tweet_extreme_count, tweet_neutral_count, tweet_count, ratio)\n",
    "SELECT sub.*, CASE WHEN sub.neutral = 0 THEN NULL ELSE sub.extreme::DECIMAL / sub.neutral::DECIMAL END\n",
    "FROM\n",
    "(SELECT tt.theory_id, DATE_PART('year', t.happened_at) as year, DATE_PART('week', t.happened_at) as week, COUNT(CASE WHEN t.compound < -0.5 OR t.compound > 0.5 THEN t.compound END) as extreme, COUNT(CASE WHEN t.compound >= -0.5 AND t.compound <= 0.5 THEN t.compound END) as neutral, count(tt.theory_id) as t_count\n",
    "FROM tweets t\n",
    "JOIN tweets_theories tt ON tt.tweet_id = t.id\n",
    "GROUP BY tt.theory_id, year, week) as sub\n",
    "\"\"\"\n",
    "\n",
    "conn = create_connection();\n",
    "cur = conn.cursor()\n",
    "cur.execute(select)\n",
    "conn.commit()\n",
    "conn.close()"
   ]
  },
  {
   "cell_type": "markdown",
   "metadata": {},
   "source": [
    "Select dat, potrebnych pre vizualizaciu pomeru extremnych a neutralnych tweetov jednotlivych teorii podla tyzdnov:"
   ]
  },
  {
   "cell_type": "code",
   "execution_count": 7,
   "metadata": {},
   "outputs": [],
   "source": [
    "data = \"\"\"\n",
    "SELECT t.theory, s.tweet_extreme_count, s.tweet_neutral_count, s.week, s.year\n",
    "FROM sentiment_ratio_by_weeks s\n",
    "JOIN theories t ON t.id = s.theory_id\n",
    "ORDER BY t.theory, s.year, s.week ASC;\n",
    "\"\"\"\n",
    "\n",
    "conn = create_connection()\n",
    "df = pd.read_sql_query(data, con=conn)\n",
    "conn.close()"
   ]
  },
  {
   "cell_type": "markdown",
   "metadata": {},
   "source": [
    "Rozdelenie datasetu na viacero mensich datasetov pre jednotlive teorie a vykreslenie grafov:"
   ]
  },
  {
   "cell_type": "code",
   "execution_count": 8,
   "metadata": {},
   "outputs": [
    {
     "data": {
      "text/plain": [
       "<matplotlib.axes._subplots.AxesSubplot at 0x1bedcb47fd0>"
      ]
     },
     "execution_count": 8,
     "metadata": {},
     "output_type": "execute_result"
    },
    {
     "data": {
      "image/png": "[encoded data removed]",
      "text/plain": [
       "<Figure size 432x288 with 1 Axes>"
      ]
     },
     "metadata": {
      "needs_background": "light"
     },
     "output_type": "display_data"
    },
    {
     "data": {
      "image/png": "[encoded data removed]",
      "text/plain": [
       "<Figure size 432x288 with 1 Axes>"
      ]
     },
     "metadata": {
      "needs_background": "light"
     },
     "output_type": "display_data"
    },
    {
     "data": {
      "image/png": "[encoded data removed]",
      "text/plain": [
       "<Figure size 432x288 with 1 Axes>"
      ]
     },
     "metadata": {
      "needs_background": "light"
     },
     "output_type": "display_data"
    },
    {
     "data": {
      "image/png": "[encoded data removed]",
      "text/plain": [
       "<Figure size 432x288 with 1 Axes>"
      ]
     },
     "metadata": {
      "needs_background": "light"
     },
     "output_type": "display_data"
    },
    {
     "data": {
      "image/png": "[encoded data removed]",
      "text/plain": [
       "<Figure size 432x288 with 1 Axes>"
      ]
     },
     "metadata": {
      "needs_background": "light"
     },
     "output_type": "display_data"
    },
    {
     "data": {
      "image/png": "[encoded data removed]",
      "text/plain": [
       "<Figure size 432x288 with 1 Axes>"
      ]
     },
     "metadata": {
      "needs_background": "light"
     },
     "output_type": "display_data"
    },
    {
     "data": {
      "image/png": "[encoded data removed]",
      "text/plain": [
       "<Figure size 432x288 with 1 Axes>"
      ]
     },
     "metadata": {
      "needs_background": "light"
     },
     "output_type": "display_data"
    },
    {
     "data": {
      "image/png": "[encoded data removed]",
      "text/plain": [
       "<Figure size 432x288 with 1 Axes>"
      ]
     },
     "metadata": {
      "needs_background": "light"
     },
     "output_type": "display_data"
    },
    {
     "data": {
      "image/png": "[encoded data removed]",
      "text/plain": [
       "<Figure size 432x288 with 1 Axes>"
      ]
     },
     "metadata": {
      "needs_background": "light"
     },
     "output_type": "display_data"
    },
    {
     "data": {
      "image/png": "[encoded data removed]",
      "text/plain": [
       "<Figure size 432x288 with 1 Axes>"
      ]
     },
     "metadata": {
      "needs_background": "light"
     },
     "output_type": "display_data"
    },
    {
     "data": {
      "image/png": "[encoded data removed]",
      "text/plain": [
       "<Figure size 432x288 with 1 Axes>"
      ]
     },
     "metadata": {
      "needs_background": "light"
     },
     "output_type": "display_data"
    },
    {
     "data": {
      "image/png": "[encoded data removed]",
      "text/plain": [
       "<Figure size 432x288 with 1 Axes>"
      ]
     },
     "metadata": {
      "needs_background": "light"
     },
     "output_type": "display_data"
    }
   ],
   "source": [
    "df_theory_1 = df[df['theory'] == '9/11 was inside job']\n",
    "df_theory_2 = df[df['theory'] == 'COVID19 and microchipping']\n",
    "df_theory_3 = df[df['theory'] == 'COVID19 is spreaded by 5G']\n",
    "df_theory_4 = df[df['theory'] == 'Deep State']\n",
    "df_theory_5 = df[df['theory'] == 'FlatEarth']\n",
    "df_theory_6 = df[df['theory'] == 'Global Warming is HOAX']\n",
    "df_theory_7 = df[df['theory'] == 'Chemtrails']\n",
    "df_theory_8 = df[df['theory'] == 'Illuminati']\n",
    "df_theory_9 = df[df['theory'] == 'Moon landing is fake']\n",
    "df_theory_10 = df[df['theory'] == 'New world order']\n",
    "df_theory_11 = df[df['theory'] == 'Pizzagate conspiracy theory']\n",
    "df_theory_12 = df[df['theory'] == 'Qanon']\n",
    "df_theory_13 = df[df['theory'] == 'Reptilian conspiracy theory']\n",
    "df_theory_14 = df[df['theory'] == 'The virus escaped from a Chinese lab']\n",
    "df_theory_1.plot.bar(title='9/11 was inside job', x='week', y=['tweet_extreme_count','tweet_neutral_count'])\n",
    "df_theory_2.plot.bar(title='COVID19 and microchipping', x='week', y=['tweet_extreme_count','tweet_neutral_count'])\n",
    "df_theory_3.plot.bar(title='COVID19 is spreaded by 5G', x='week', y=['tweet_extreme_count','tweet_neutral_count'])\n",
    "df_theory_4.plot.bar(title='Deep State', x='week', y=['tweet_extreme_count','tweet_neutral_count'])\n",
    "df_theory_5.plot.bar(title='FlatEarth', x='week', y=['tweet_extreme_count','tweet_neutral_count'])\n",
    "df_theory_6.plot.bar(title='Global Warming is HOAX', x='week', y=['tweet_extreme_count','tweet_neutral_count'])\n",
    "df_theory_7.plot.bar(title='Chemtrails', x='week', y=['tweet_extreme_count','tweet_neutral_count'])\n",
    "df_theory_8.plot.bar(title='Illuminati', x='week', y=['tweet_extreme_count','tweet_neutral_count'])\n",
    "df_theory_9.plot.bar(title='Moon landing is fake', x='week', y=['tweet_extreme_count','tweet_neutral_count'])\n",
    "df_theory_10.plot.bar(title='New world order', x='week', y=['tweet_extreme_count','tweet_neutral_count'])\n",
    "df_theory_13.plot.bar(title='Reptilian conspiracy theory', x='week', y=['tweet_extreme_count','tweet_neutral_count'])\n",
    "df_theory_14.plot.bar(title='The virus escaped from a Chinese lab', x='week', y=['tweet_extreme_count','tweet_neutral_count'])"
   ]
  },
  {
   "cell_type": "markdown",
   "metadata": {},
   "source": [
    "Nakolko teorie 'Pizzagate conspiracy theory' a 'Qanon' obsahuju tweety z viacerych rokov, je potrebne upravit oznacenie tyzdnov (rok-tyzden):"
   ]
  },
  {
   "cell_type": "code",
   "execution_count": 9,
   "metadata": {},
   "outputs": [
    {
     "name": "stderr",
     "output_type": "stream",
     "text": [
      "C:\\Users\\Marek\\Anaconda3\\lib\\site-packages\\ipykernel_launcher.py:1: SettingWithCopyWarning: \n",
      "A value is trying to be set on a copy of a slice from a DataFrame.\n",
      "Try using .loc[row_indexer,col_indexer] = value instead\n",
      "\n",
      "See the caveats in the documentation: http://pandas.pydata.org/pandas-docs/stable/indexing.html#indexing-view-versus-copy\n",
      "  \"\"\"Entry point for launching an IPython kernel.\n"
     ]
    }
   ],
   "source": [
    "df_theory_11['year_week'] = df_theory_11['year'].astype(str) + '-' + df_theory_11['week'].astype(str)"
   ]
  },
  {
   "cell_type": "code",
   "execution_count": 10,
   "metadata": {},
   "outputs": [
    {
     "data": {
      "text/plain": [
       "Text(0.5, 0, 'year-week')"
      ]
     },
     "execution_count": 10,
     "metadata": {},
     "output_type": "execute_result"
    },
    {
     "data": {
      "image/png": "[encoded data removed]",
      "text/plain": [
       "<Figure size 432x288 with 1 Axes>"
      ]
     },
     "metadata": {
      "needs_background": "light"
     },
     "output_type": "display_data"
    }
   ],
   "source": [
    "ax1 = df_theory_11.plot.bar(title='Pizzagate conspiracy theory', x='year_week', y=['tweet_extreme_count','tweet_neutral_count'])\n",
    "ax1.set_xlabel('year-week')"
   ]
  },
  {
   "cell_type": "code",
   "execution_count": 11,
   "metadata": {},
   "outputs": [
    {
     "name": "stderr",
     "output_type": "stream",
     "text": [
      "C:\\Users\\Marek\\Anaconda3\\lib\\site-packages\\ipykernel_launcher.py:1: SettingWithCopyWarning: \n",
      "A value is trying to be set on a copy of a slice from a DataFrame.\n",
      "Try using .loc[row_indexer,col_indexer] = value instead\n",
      "\n",
      "See the caveats in the documentation: http://pandas.pydata.org/pandas-docs/stable/indexing.html#indexing-view-versus-copy\n",
      "  \"\"\"Entry point for launching an IPython kernel.\n"
     ]
    }
   ],
   "source": [
    "df_theory_12['year_week'] = df_theory_12['year'].astype(str) + '-' + df_theory_12['week'].astype(str)"
   ]
  },
  {
   "cell_type": "code",
   "execution_count": 12,
   "metadata": {},
   "outputs": [
    {
     "data": {
      "text/plain": [
       "Text(0.5, 0, 'year-week')"
      ]
     },
     "execution_count": 12,
     "metadata": {},
     "output_type": "execute_result"
    },
    {
     "data": {
      "image/png": "[encoded data removed]",
      "text/plain": [
       "<Figure size 1080x216 with 1 Axes>"
      ]
     },
     "metadata": {
      "needs_background": "light"
     },
     "output_type": "display_data"
    }
   ],
   "source": [
    "ax2 = df_theory_12.plot.bar(title='Qanon', x='year_week', y=['tweet_extreme_count','tweet_neutral_count'], figsize=(15,3))\n",
    "ax2.set_xlabel('year-week')"
   ]
  },
  {
   "cell_type": "markdown",
   "metadata": {},
   "source": [
    "## Uloha 5"
   ]
  },
  {
   "cell_type": "markdown",
   "metadata": {},
   "source": [
    "Vytvorenie novej tabulky pre ulohu 5 a jej naplnenie:"
   ]
  },
  {
   "cell_type": "code",
   "execution_count": null,
   "metadata": {},
   "outputs": [],
   "source": [
    "create = \"\"\"\n",
    "CREATE TABLE top_extreme_accounts (\n",
    "    id SERIAL PRIMARY KEY,\n",
    "    author_id BIGINT NOT NULL,\n",
    "    name CHARACTER VARYING(200),\n",
    "    screen_name CHARACTER VARYING(200),\n",
    "    tweet_count INTEGER,\n",
    "    theory_id INTEGER NOT NULL,\n",
    "    FOREIGN KEY (author_id) REFERENCES accounts(id) ON UPDATE CASCADE ON DELETE RESTRICT,\n",
    "    FOREIGN KEY (theory_id) REFERENCES theories(id) ON UPDATE CASCADE ON DELETE RESTRICT\n",
    ")\n",
    "\"\"\"\n",
    "\n",
    "insert = \"\"\"\n",
    "INSERT INTO top_extreme_accounts (author_id, name, screen_name, theory_id, tweet_count)\n",
    "SELECT sub.id, sub.name, sub.screen_name, sub.theory_id, sub.count\n",
    "FROM\n",
    "(SELECT ac.id, ac.name, ac.screen_name, th.id theory_id, count(t.id), row_number() OVER (Partition BY th.theory ORDER BY count(t.id) DESC) AS rank\n",
    "FROM tweets t\n",
    "JOIN tweets_theories tt ON tt.tweet_id = t.id\n",
    "JOIN theories th ON th.id = tt.theory_id\n",
    "JOIN accounts ac ON ac.id = t.author_id\n",
    "WHERE t.compound > 0.5 OR t.compound < -0.5\n",
    "GROUP BY ac.id, ac.name, ac.screen_name, th.id) as sub\n",
    "WHERE sub.rank <= 10;\n",
    "\"\"\"\n",
    "\n",
    "conn = create_connection()\n",
    "cur = conn.cursor()\n",
    "cur.execute(create)\n",
    "cur.execute(insert)\n",
    "conn.commit()\n",
    "conn.close()"
   ]
  },
  {
   "cell_type": "code",
   "execution_count": 13,
   "metadata": {},
   "outputs": [
    {
     "data": {
      "text/html": [
       "<div>\n",
       "<style scoped>\n",
       "    .dataframe tbody tr th:only-of-type {\n",
       "        vertical-align: middle;\n",
       "    }\n",
       "\n",
       "    .dataframe tbody tr th {\n",
       "        vertical-align: top;\n",
       "    }\n",
       "\n",
       "    .dataframe thead th {\n",
       "        text-align: right;\n",
       "    }\n",
       "</style>\n",
       "<table border=\"1\" class=\"dataframe\">\n",
       "  <thead>\n",
       "    <tr style=\"text-align: right;\">\n",
       "      <th></th>\n",
       "      <th>author_id</th>\n",
       "      <th>name</th>\n",
       "      <th>screen_name</th>\n",
       "      <th>theory</th>\n",
       "      <th>tweet_count</th>\n",
       "    </tr>\n",
       "  </thead>\n",
       "  <tbody>\n",
       "    <tr>\n",
       "      <th>0</th>\n",
       "      <td>55905770</td>\n",
       "      <td>Miriam Selmi Reed</td>\n",
       "      <td>mimiselmi</td>\n",
       "      <td>9/11 was inside job</td>\n",
       "      <td>2</td>\n",
       "    </tr>\n",
       "    <tr>\n",
       "      <th>1</th>\n",
       "      <td>2549547798</td>\n",
       "      <td>David Hooper</td>\n",
       "      <td>DaveHooper15</td>\n",
       "      <td>9/11 was inside job</td>\n",
       "      <td>2</td>\n",
       "    </tr>\n",
       "    <tr>\n",
       "      <th>2</th>\n",
       "      <td>1242848729796935685</td>\n",
       "      <td>QuietBuck2</td>\n",
       "      <td>QuietBuck2</td>\n",
       "      <td>9/11 was inside job</td>\n",
       "      <td>1</td>\n",
       "    </tr>\n",
       "    <tr>\n",
       "      <th>3</th>\n",
       "      <td>1243433781597548546</td>\n",
       "      <td>ᏊᎣ𝕶𝖆𝖗𝖔ᎣᏊ</td>\n",
       "      <td>Karolin20775637</td>\n",
       "      <td>9/11 was inside job</td>\n",
       "      <td>1</td>\n",
       "    </tr>\n",
       "    <tr>\n",
       "      <th>4</th>\n",
       "      <td>1237444146236919808</td>\n",
       "      <td>Be L❤️VE</td>\n",
       "      <td>SparrowHawkClwd</td>\n",
       "      <td>9/11 was inside job</td>\n",
       "      <td>1</td>\n",
       "    </tr>\n",
       "  </tbody>\n",
       "</table>\n",
       "</div>"
      ],
      "text/plain": [
       "             author_id               name      screen_name  \\\n",
       "0             55905770  Miriam Selmi Reed        mimiselmi   \n",
       "1           2549547798       David Hooper     DaveHooper15   \n",
       "2  1242848729796935685         QuietBuck2       QuietBuck2   \n",
       "3  1243433781597548546           ᏊᎣ𝕶𝖆𝖗𝖔ᎣᏊ  Karolin20775637   \n",
       "4  1237444146236919808           Be L❤️VE  SparrowHawkClwd   \n",
       "\n",
       "                theory  tweet_count  \n",
       "0  9/11 was inside job            2  \n",
       "1  9/11 was inside job            2  \n",
       "2  9/11 was inside job            1  \n",
       "3  9/11 was inside job            1  \n",
       "4  9/11 was inside job            1  "
      ]
     },
     "execution_count": 13,
     "metadata": {},
     "output_type": "execute_result"
    }
   ],
   "source": [
    "select_uloha5 = \"\"\"\n",
    "SELECT t.author_id, t.name, t.screen_name, th.theory, tweet_count\n",
    "FROM top_extreme_accounts t\n",
    "JOIN theories th ON th.id = t.theory_id\n",
    "LIMIT 5;\n",
    "\"\"\"\n",
    "\n",
    "conn = create_connection()\n",
    "df = pd.read_sql_query(select_uloha5, con=conn)\n",
    "conn.close()\n",
    "df"
   ]
  },
  {
   "cell_type": "markdown",
   "metadata": {},
   "source": [
    "## Uloha 6"
   ]
  },
  {
   "cell_type": "markdown",
   "metadata": {},
   "source": [
    "Select podla zadania ulohy 6:"
   ]
  },
  {
   "cell_type": "code",
   "execution_count": 14,
   "metadata": {},
   "outputs": [],
   "source": [
    "select = \"\"\"\n",
    "SELECT sub.theory, sub.value, sub.count\n",
    "FROM\n",
    "(SELECT th.theory, h.value, h.id, count(h.id), row_number() OVER (Partition by th.theory ORDER BY count(h.id) DESC) as rank\n",
    "FROM tweets t\n",
    "JOIN tweets_theories tt ON tt.tweet_id = t.id\n",
    "JOIN theories th ON th.id = tt.theory_id\n",
    "JOIN tweet_hashtags ths ON ths.tweet_id = t.id\n",
    "JOIN hashtags h ON h.id = ths.hashtag_id\n",
    "WHERE t.compound > 0.5 OR t.compound < -0.5\n",
    "GROUP BY th.theory, h.value, h.id) as sub\n",
    "WHERE sub.rank <= 10;\n",
    "\"\"\"\n",
    "\n",
    "conn = create_connection()\n",
    "df = pd.read_sql_query(select, con=conn)\n",
    "conn.close()"
   ]
  },
  {
   "cell_type": "code",
   "execution_count": 15,
   "metadata": {},
   "outputs": [
    {
     "name": "stdout",
     "output_type": "stream",
     "text": [
      "                                   theory                value   count\n",
      "0                     9/11 was inside job                QAnon      27\n",
      "1                     9/11 was inside job             911Truth      24\n",
      "2                     9/11 was inside job              WWG1WGA      19\n",
      "3                     9/11 was inside job    TheGreatAwakening      16\n",
      "4                     9/11 was inside job                 WTC7      16\n",
      "5                     9/11 was inside job         QAnonGermany      14\n",
      "6                     9/11 was inside job    WWG1WGA_WORLDWIDE      14\n",
      "7                     9/11 was inside job             911truth       8\n",
      "8                     9/11 was inside job                Qanon       5\n",
      "9                     9/11 was inside job           demolition       4\n",
      "10              COVID19 and microchipping           SorosVirus       4\n",
      "11              COVID19 and microchipping          coronavirus       4\n",
      "12              COVID19 is spreaded by 5G        5GCoronavirus      85\n",
      "13              COVID19 is spreaded by 5G              COVID19      25\n",
      "14              COVID19 is spreaded by 5G                   5G      18\n",
      "15              COVID19 is spreaded by 5G          coronavirus      15\n",
      "16              COVID19 is spreaded by 5G                QAnon      15\n",
      "17              COVID19 is spreaded by 5G                qanon       9\n",
      "18              COVID19 is spreaded by 5G             Agenda21       9\n",
      "19              COVID19 is spreaded by 5G             COVIDー19       7\n",
      "20              COVID19 is spreaded by 5G             Covid_19       6\n",
      "21              COVID19 is spreaded by 5G              WWG1WGA       6\n",
      "22                             Deep State       DeepStateFauci      99\n",
      "23                             Deep State                Qanon      66\n",
      "24                             Deep State                Fauci      64\n",
      "25                             Deep State                   RT      63\n",
      "26                             Deep State                QAnon      49\n",
      "27                             Deep State       DeepStateVirus      46\n",
      "28                             Deep State    TheGreatAwakening      46\n",
      "29                             Deep State                qanon      33\n",
      "30                             Deep State              wwg1wga      30\n",
      "31                             Deep State              COVID19      30\n",
      "32                              FlatEarth            FlatEarth      47\n",
      "33                              FlatEarth                QAnon      42\n",
      "34                              FlatEarth            flatearth      23\n",
      "35                              FlatEarth                 NASA      22\n",
      "36                              FlatEarth          coronavirus      21\n",
      "37                              FlatEarth     ConspiracyTheory      17\n",
      "38                              FlatEarth                Qanon      16\n",
      "39                              FlatEarth                 Woke      15\n",
      "40                              FlatEarth           NoVaccines      15\n",
      "41                              FlatEarth               Vaxxed      15\n",
      "42                 Global Warming is HOAX    ClimateChangeHoax      16\n",
      "43                 Global Warming is HOAX          coronavirus      10\n",
      "44                 Global Warming is HOAX             Agenda21       6\n",
      "45                 Global Warming is HOAX                QAnon       2\n",
      "46                 Global Warming is HOAX       FastandFurious       2\n",
      "47                 Global Warming is HOAX              WWG1WGA       2\n",
      "48                 Global Warming is HOAX            ObamaGate       2\n",
      "49                 Global Warming is HOAX            LockHimUp       2\n",
      "50                 Global Warming is HOAX             FakeNews       2\n",
      "51                 Global Warming is HOAX     TurkeyEarthquake       2\n",
      "52                             Chemtrails           chemtrails     155\n",
      "53                             Chemtrails                QAnon     106\n",
      "54                             Chemtrails                Qanon      57\n",
      "55                             Chemtrails                   5G      56\n",
      "56                             Chemtrails              WWG1WGA      55\n",
      "57                             Chemtrails            BillGates      44\n",
      "58                             Chemtrails                  NWO      44\n",
      "59                             Chemtrails           Chemtrails      39\n",
      "60                             Chemtrails    TheGreatAwakening      36\n",
      "61                             Chemtrails                HAARP      27\n",
      "62                             Illuminati           Illuminati     389\n",
      "63                             Illuminati              WWG1WGA     314\n",
      "64                             Illuminati                QAnon     300\n",
      "65                             Illuminati    TheGreatAwakening     207\n",
      "66                             Illuminati                Cabal     168\n",
      "67                             Illuminati          coronavirus     158\n",
      "68                             Illuminati           illuminati     125\n",
      "69                             Illuminati                qanon     124\n",
      "70                             Illuminati                  nwo     117\n",
      "71                             Illuminati  2012olympicceremony     116\n",
      "72                   Moon landing is fake                QAnon      17\n",
      "73                   Moon landing is fake                 NASA      11\n",
      "74                   Moon landing is fake            ObamaGate      11\n",
      "75                   Moon landing is fake             moonhoax      11\n",
      "76                   Moon landing is fake    researchflatearth      11\n",
      "77                   Moon landing is fake          spaceisfake      11\n",
      "78                   Moon landing is fake              Birther       6\n",
      "79                   Moon landing is fake           UraniumOne       6\n",
      "80                   Moon landing is fake                Soros       6\n",
      "81                   Moon landing is fake           chemtrails       6\n",
      "82                        New world order             Agenda21     370\n",
      "83                        New world order          coronavirus     262\n",
      "84                        New world order             agenda21     220\n",
      "85                        New world order           agenda2030     187\n",
      "86                        New world order                QAnon     173\n",
      "87                        New world order              Covid19      90\n",
      "88                        New world order             AGENDA21      81\n",
      "89                        New world order                  NWO      79\n",
      "90                        New world order          CORONAVIRUS      78\n",
      "91                        New world order             AGENDA30      65\n",
      "92            Pizzagate conspiracy theory      PIZZAGATEISREAL     356\n",
      "93            Pizzagate conspiracy theory                QAnon     294\n",
      "94            Pizzagate conspiracy theory                Qanon     290\n",
      "95            Pizzagate conspiracy theory      PizzaGateIsReal     279\n",
      "96            Pizzagate conspiracy theory              WWG1WGA     272\n",
      "97            Pizzagate conspiracy theory    TheGreatAwakening     262\n",
      "98            Pizzagate conspiracy theory                 MAGA     210\n",
      "99            Pizzagate conspiracy theory                qanon     180\n",
      "100           Pizzagate conspiracy theory                  KAG     172\n",
      "101           Pizzagate conspiracy theory            PizzaGate     168\n",
      "102                                 Qanon                QAnon  414745\n",
      "103                                 Qanon              WWG1WGA  200157\n",
      "104                                 Qanon                Qanon  130006\n",
      "105                                 Qanon                 MAGA   70378\n",
      "106                                 Qanon                qanon   65599\n",
      "107                                 Qanon                QANON   56674\n",
      "108                                 Qanon                Trump   45340\n",
      "109                                 Qanon                  KAG   36806\n",
      "110                                 Qanon    TheGreatAwakening   35410\n",
      "111                                 Qanon     WWG1WGAWORLDWIDE   33598\n",
      "112           Reptilian conspiracy theory           Reptilians      17\n",
      "113           Reptilian conspiracy theory    TheGreatAwakening      16\n",
      "114           Reptilian conspiracy theory                  SSP      15\n",
      "115           Reptilian conspiracy theory                QANON      15\n",
      "116           Reptilian conspiracy theory    VictoryOfTheLight      15\n",
      "117           Reptilian conspiracy theory              Romance      15\n",
      "118           Reptilian conspiracy theory   SecretSpaceProgram      15\n",
      "119           Reptilian conspiracy theory         SpaceMarines      15\n",
      "120           Reptilian conspiracy theory          DragonShips      15\n",
      "121           Reptilian conspiracy theory       FULLDisclosure      15\n",
      "122  The virus escaped from a Chinese lab             CCPVirus    1301\n",
      "123  The virus escaped from a Chinese lab  ChinaLiedPeopleDied     956\n",
      "124  The virus escaped from a Chinese lab                China     370\n",
      "125  The virus escaped from a Chinese lab              COVID19     262\n",
      "126  The virus escaped from a Chinese lab                QAnon     258\n",
      "127  The virus escaped from a Chinese lab                  CCP     248\n",
      "128  The virus escaped from a Chinese lab          coronavirus     237\n",
      "129  The virus escaped from a Chinese lab           ChinaVirus     178\n",
      "130  The virus escaped from a Chinese lab         ChineseVirus     173\n",
      "131  The virus escaped from a Chinese lab           WuhanVirus     164\n"
     ]
    }
   ],
   "source": [
    "with pd.option_context('display.max_rows', None, 'display.max_columns', None):\n",
    "    print(df)"
   ]
  },
  {
   "cell_type": "code",
   "execution_count": null,
   "metadata": {},
   "outputs": [],
   "source": []
  }
 ],
 "metadata": {
  "kernelspec": {
   "display_name": "Python 3",
   "language": "python",
   "name": "python3"
  },
  "language_info": {
   "codemirror_mode": {
    "name": "ipython",
    "version": 3
   },
   "file_extension": ".py",
   "mimetype": "text/x-python",
   "name": "python",
   "nbconvert_exporter": "python",
   "pygments_lexer": "ipython3",
   "version": "3.7.3"
  }
 },
 "nbformat": 4,
 "nbformat_minor": 2
}
