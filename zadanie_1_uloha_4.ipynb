{
 "cells": [
  {
   "cell_type": "code",
   "execution_count": 1,
   "metadata": {},
   "outputs": [],
   "source": [
    "from psycopg2.extras import RealDictCursor\n",
    "import psycopg2\n",
    "import pandas as pd"
   ]
  },
  {
   "cell_type": "code",
   "execution_count": 2,
   "metadata": {},
   "outputs": [],
   "source": [
    "def create_connection():\n",
    "    return psycopg2.connect(\"dbname=twitter user=postgres password=postgres host=localhost port=5433\")"
   ]
  },
  {
   "cell_type": "code",
   "execution_count": 3,
   "metadata": {},
   "outputs": [],
   "source": [
    "create_table = \"\"\"\n",
    "CREATE TABLE sentiment_ratio_by_weeks (\n",
    "    id SERIAL PRIMARY KEY,\n",
    "    theory_id INTEGER NOT NULL,\n",
    "    tweet_count INTEGER DEFAULT 0,\n",
    "    tweet_extreme_count INTEGER DEFAULT 0,\n",
    "    tweet_neutral_count INTEGER DEFAULT 0,\n",
    "    ratio DECIMAL DEFAULT 0,\n",
    "    week INTEGER,\n",
    "    year INTEGER,\n",
    "    FOREIGN KEY (theory_id) REFERENCES theories(id) ON UPDATE CASCADE ON DELETE RESTRICT\n",
    ")\n",
    "\"\"\"\n",
    "\n",
    "conn = create_connection();\n",
    "cur = conn.cursor()\n",
    "cur.execute(create_table)\n",
    "conn.commit()\n",
    "conn.close()"
   ]
  },
  {
   "cell_type": "code",
   "execution_count": 5,
   "metadata": {},
   "outputs": [],
   "source": [
    "select = \"\"\"\n",
    "INSERT INTO sentiment_ratio_by_weeks (theory_id, year, week, tweet_extreme_count, tweet_neutral_count, tweet_count, ratio)\n",
    "SELECT sub.*, CASE WHEN sub.neutral = 0 THEN NULL ELSE sub.extreme::DECIMAL / sub.neutral::DECIMAL END\n",
    "FROM\n",
    "(SELECT tt.theory_id, DATE_PART('year', t.happened_at) as year, DATE_PART('week', t.happened_at) as week, COUNT(CASE WHEN t.compound < -0.5 OR t.compound > 0.5 THEN t.compound END) as extreme, COUNT(CASE WHEN t.compound >= -0.5 AND t.compound <= 0.5 THEN t.compound END) as neutral, count(tt.theory_id) as t_count\n",
    "FROM tweets t\n",
    "JOIN tweets_theories tt ON tt.tweet_id = t.id\n",
    "GROUP BY tt.theory_id, year, week) as sub\n",
    "\"\"\"\n",
    "\n",
    "conn = create_connection();\n",
    "cur = conn.cursor()\n",
    "cur.execute(select)\n",
    "conn.commit()\n",
    "conn.close()"
   ]
  },
  {
   "cell_type": "code",
   "execution_count": null,
   "metadata": {},
   "outputs": [],
   "source": []
  }
 ],
 "metadata": {
  "kernelspec": {
   "display_name": "Python 3",
   "language": "python",
   "name": "python3"
  },
  "language_info": {
   "codemirror_mode": {
    "name": "ipython",
    "version": 3
   },
   "file_extension": ".py",
   "mimetype": "text/x-python",
   "name": "python",
   "nbconvert_exporter": "python",
   "pygments_lexer": "ipython3",
   "version": "3.7.3"
  }
 },
 "nbformat": 4,
 "nbformat_minor": 2
}
