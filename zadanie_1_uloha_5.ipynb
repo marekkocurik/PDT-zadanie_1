{
 "cells": [
  {
   "cell_type": "code",
   "execution_count": 1,
   "metadata": {},
   "outputs": [],
   "source": [
    "from psycopg2.extras import RealDictCursor\n",
    "import psycopg2\n",
    "import pandas as pd"
   ]
  },
  {
   "cell_type": "code",
   "execution_count": 2,
   "metadata": {},
   "outputs": [],
   "source": [
    "def create_connection():\n",
    "    return psycopg2.connect(\"dbname=twitter user=postgres password=postgres host=localhost port=5433\")"
   ]
  },
  {
   "cell_type": "code",
   "execution_count": 4,
   "metadata": {},
   "outputs": [],
   "source": [
    "create = \"\"\"\n",
    "CREATE TABLE top_extreme_accounts (\n",
    "    id SERIAL PRIMARY KEY,\n",
    "    author_id BIGINT NOT NULL,\n",
    "    name CHARACTER VARYING(200),\n",
    "    screen_name CHARACTER VARYING(200),\n",
    "    tweet_count INTEGER,\n",
    "    theory_id INTEGER NOT NULL,\n",
    "    FOREIGN KEY (author_id) REFERENCES accounts(id) ON UPDATE CASCADE ON DELETE RESTRICT,\n",
    "    FOREIGN KEY (theory_id) REFERENCES theories(id) ON UPDATE CASCADE ON DELETE RESTRICT\n",
    ")\n",
    "\"\"\"\n",
    "\n",
    "insert = \"\"\"\n",
    "INSERT INTO top_extreme_accounts (author_id, name, screen_name, theory_id, tweet_count)\n",
    "SELECT sub.id, sub.name, sub.screen_name, sub.theory_id, sub.count\n",
    "FROM\n",
    "(SELECT ac.id, ac.name, ac.screen_name, th.id theory_id, count(t.id), row_number() OVER (Partition BY th.theory ORDER BY count(t.id) DESC) AS rank\n",
    "FROM tweets t\n",
    "JOIN tweets_theories tt ON tt.tweet_id = t.id\n",
    "JOIN theories th ON th.id = tt.theory_id\n",
    "JOIN accounts ac ON ac.id = t.author_id\n",
    "WHERE t.compound > 0.5 OR t.compound < -0.5\n",
    "GROUP BY ac.id, ac.name, ac.screen_name, th.id) as sub\n",
    "WHERE sub.rank <= 10;\n",
    "\"\"\"\n",
    "\n",
    "conn = create_connection()\n",
    "cur = conn.cursor()\n",
    "cur.execute(create)\n",
    "cur.execute(insert)\n",
    "conn.commit()\n",
    "conn.close()"
   ]
  },
  {
   "cell_type": "code",
   "execution_count": null,
   "metadata": {},
   "outputs": [],
   "source": []
  }
 ],
 "metadata": {
  "kernelspec": {
   "display_name": "Python 3",
   "language": "python",
   "name": "python3"
  },
  "language_info": {
   "codemirror_mode": {
    "name": "ipython",
    "version": 3
   },
   "file_extension": ".py",
   "mimetype": "text/x-python",
   "name": "python",
   "nbconvert_exporter": "python",
   "pygments_lexer": "ipython3",
   "version": "3.7.3"
  }
 },
 "nbformat": 4,
 "nbformat_minor": 2
}
