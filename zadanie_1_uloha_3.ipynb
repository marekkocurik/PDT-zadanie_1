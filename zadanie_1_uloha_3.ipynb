{
 "cells": [
  {
   "cell_type": "code",
   "execution_count": 1,
   "metadata": {},
   "outputs": [],
   "source": [
    "from psycopg2.extras import RealDictCursor\n",
    "import psycopg2\n",
    "import pandas as pd"
   ]
  },
  {
   "cell_type": "code",
   "execution_count": 2,
   "metadata": {},
   "outputs": [],
   "source": [
    "def create_connection():\n",
    "    return psycopg2.connect(\"dbname=twitter user=postgres password=postgres host=localhost port=5433\")"
   ]
  },
  {
   "cell_type": "code",
   "execution_count": 5,
   "metadata": {},
   "outputs": [],
   "source": [
    "create_table_theories = \"\"\"\n",
    "CREATE TABLE theories (\n",
    "    id SERIAL PRIMARY KEY,\n",
    "    theory VARCHAR(50)\n",
    ");\n",
    "\"\"\"\n",
    "\n",
    "create_table_tweets_theories = \"\"\"\n",
    "CREATE TABLE tweets_theories (\n",
    "    id SERIAL PRIMARY KEY,\n",
    "    tweet_id VARCHAR(20) NOT NULL,\n",
    "    theory_id INTEGER NOT NULL,\n",
    "    FOREIGN KEY (tweet_id) REFERENCES tweets(id) ON UPDATE CASCADE ON DELETE RESTRICT,\n",
    "    FOREIGN KEY (theory_id) REFERENCES theories(id) ON UPDATE CASCADE ON DELETE RESTRICT\n",
    ");\n",
    "\"\"\"\n",
    "\n",
    "conn = create_connection();\n",
    "cur = conn.cursor()\n",
    "cur.execute(create_table_theories)\n",
    "cur.execute(create_table_tweets_theories)\n",
    "conn.commit()\n",
    "conn.close()"
   ]
  },
  {
   "cell_type": "code",
   "execution_count": 6,
   "metadata": {},
   "outputs": [],
   "source": [
    "fill_theories = \"\"\"\n",
    "INSERT INTO theories(theory)\n",
    "VALUES  ('Deep State'),\n",
    "        ('Qanon'),\n",
    "        ('New world order'),\n",
    "        ('The virus escaped from a Chinese lab'),\n",
    "        ('Global Warmingis HOAX'),\n",
    "        ('COVID19 and microchipping'),\n",
    "        ('COVID19 is preaded by 5G'),\n",
    "        ('Moon landing is fake'),\n",
    "        ('9/11 was inside job'),\n",
    "        ('Pizzagate conspiracy theory'),\n",
    "        ('Chemtrails'),\n",
    "        ('FlatEarth'),\n",
    "        ('Illuminati'),\n",
    "        ('Reptilian conspiracy theory');\n",
    "\"\"\"\n",
    "\n",
    "conn = create_connection()\n",
    "cur = conn.cursor()\n",
    "cur.execute(fill_theories)\n",
    "conn.commit()\n",
    "conn.close()"
   ]
  },
  {
   "cell_type": "code",
   "execution_count": null,
   "metadata": {},
   "outputs": [],
   "source": []
  }
 ],
 "metadata": {
  "kernelspec": {
   "display_name": "Python 3",
   "language": "python",
   "name": "python3"
  },
  "language_info": {
   "codemirror_mode": {
    "name": "ipython",
    "version": 3
   },
   "file_extension": ".py",
   "mimetype": "text/x-python",
   "name": "python",
   "nbconvert_exporter": "python",
   "pygments_lexer": "ipython3",
   "version": "3.7.3"
  }
 },
 "nbformat": 4,
 "nbformat_minor": 2
}
